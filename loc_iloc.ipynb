{
 "cells": [
  {
   "cell_type": "code",
   "execution_count": 35,
   "id": "45c2e35a-ae86-4469-b200-767cff01b216",
   "metadata": {},
   "outputs": [
    {
     "data": {
      "text/plain": [
       "3    b\n",
       "5    c\n",
       "dtype: object"
      ]
     },
     "execution_count": 35,
     "metadata": {},
     "output_type": "execute_result"
    }
   ],
   "source": [
    "import pandas as pd\n",
    "\n",
    "data = pd.Series(['a', 'b', 'c'], index=[1, 3, 5])\n",
    "\n",
    "data[1:3]"
   ]
  },
  {
   "cell_type": "code",
   "execution_count": 36,
   "id": "f6295b4a-fbf4-4b93-b357-d3149baf1fff",
   "metadata": {},
   "outputs": [
    {
     "data": {
      "text/plain": [
       "3    b\n",
       "5    c\n",
       "dtype: object"
      ]
     },
     "execution_count": 36,
     "metadata": {},
     "output_type": "execute_result"
    }
   ],
   "source": [
    "data.iloc[1:3]"
   ]
  },
  {
   "cell_type": "code",
   "execution_count": 38,
   "id": "2e1e101b-7fa5-43b7-b2b2-1f0e65e53a2a",
   "metadata": {},
   "outputs": [
    {
     "data": {
      "text/plain": [
       "1    a\n",
       "3    b\n",
       "5    c\n",
       "dtype: object"
      ]
     },
     "execution_count": 38,
     "metadata": {},
     "output_type": "execute_result"
    }
   ],
   "source": [
    "data = pd.Series(['a', 'b', 'c'], index=[1, 3, 5])\n",
    "data"
   ]
  },
  {
   "cell_type": "code",
   "execution_count": 39,
   "id": "e85e7338-e789-40f6-bd63-aceb00ac40f0",
   "metadata": {},
   "outputs": [
    {
     "data": {
      "text/plain": [
       "'a'"
      ]
     },
     "execution_count": 39,
     "metadata": {},
     "output_type": "execute_result"
    }
   ],
   "source": [
    "# 데이터 인덱싱 시 명시적 인덱스 참조 (라벨 기반)\n",
    "data[1]"
   ]
  },
  {
   "cell_type": "code",
   "execution_count": 40,
   "id": "54331b06-245e-4c1c-bbe6-792af7baf243",
   "metadata": {},
   "outputs": [
    {
     "data": {
      "text/plain": [
       "3    b\n",
       "5    c\n",
       "dtype: object"
      ]
     },
     "execution_count": 40,
     "metadata": {},
     "output_type": "execute_result"
    }
   ],
   "source": [
    "# 데이터 슬라이싱 시 암묵적 인덱스 (위치 기반) 참조 -> 혼란 야기 \n",
    "data[1:3]"
   ]
  },
  {
   "cell_type": "code",
   "execution_count": 24,
   "id": "c423e03c-bae5-41f6-843f-a54086843511",
   "metadata": {},
   "outputs": [
    {
     "data": {
      "text/plain": [
       "'a'"
      ]
     },
     "execution_count": 24,
     "metadata": {},
     "output_type": "execute_result"
    }
   ],
   "source": [
    "# 항상 명시적 인덱스 참조 하도록하는 기능 (라벨 기반)\n",
    "data.loc[1]"
   ]
  },
  {
   "cell_type": "code",
   "execution_count": 29,
   "id": "3d17dd9f-c5a3-4940-9334-e84b3e1727e5",
   "metadata": {},
   "outputs": [
    {
     "data": {
      "text/plain": [
       "'c'"
      ]
     },
     "execution_count": 29,
     "metadata": {},
     "output_type": "execute_result"
    }
   ],
   "source": [
    "# 항상 암묵적 인덱스 참조 하도록하는 기능 (위치 기반)\n",
    "data.iloc [1]"
   ]
  },
  {
   "cell_type": "code",
   "execution_count": 28,
   "id": "e7fd272d-44da-4e89-af28-ddb8e0b67b99",
   "metadata": {},
   "outputs": [
    {
     "data": {
      "text/plain": [
       "1    a\n",
       "3    b\n",
       "dtype: object"
      ]
     },
     "execution_count": 28,
     "metadata": {},
     "output_type": "execute_result"
    }
   ],
   "source": [
    "# 항상 명시적 인덱스 참조 하도록하는 기능 (라벨 기반)\n",
    "data.loc[1:3]"
   ]
  },
  {
   "cell_type": "code",
   "execution_count": 27,
   "id": "a4227aac-6934-4183-8a81-4151776f1129",
   "metadata": {},
   "outputs": [
    {
     "data": {
      "text/plain": [
       "3    b\n",
       "5    c\n",
       "dtype: object"
      ]
     },
     "execution_count": 27,
     "metadata": {},
     "output_type": "execute_result"
    }
   ],
   "source": [
    "data.iloc [1:3]"
   ]
  },
  {
   "cell_type": "code",
   "execution_count": 32,
   "id": "e544b323-6d97-4c75-bb27-4935fb499d02",
   "metadata": {},
   "outputs": [
    {
     "name": "stdout",
     "output_type": "stream",
     "text": [
      "10    a\n",
      "20    b\n",
      "30    c\n",
      "40    d\n",
      "dtype: object\n"
     ]
    }
   ],
   "source": [
    "data2 = pd.Series(['a', 'b', 'c', 'd'], index=[10, 20, 30, 40])\n",
    "\n",
    "print(data2)"
   ]
  },
  {
   "cell_type": "code",
   "execution_count": 33,
   "id": "146295ec-c826-4bad-9937-b67bbc56288e",
   "metadata": {},
   "outputs": [
    {
     "data": {
      "text/plain": [
       "Series([], dtype: object)"
      ]
     },
     "execution_count": 33,
     "metadata": {},
     "output_type": "execute_result"
    }
   ],
   "source": [
    "data2[10:30] # 슬라이싱 -> 위치 기반 10~30 전까지로 해석 -> 빈 시리즈 출력"
   ]
  },
  {
   "cell_type": "code",
   "execution_count": 34,
   "id": "5e26dcc1-bc74-467b-a3b2-0a954890f3c3",
   "metadata": {},
   "outputs": [
    {
     "data": {
      "text/plain": [
       "10    a\n",
       "20    b\n",
       "30    c\n",
       "dtype: object"
      ]
     },
     "execution_count": 34,
     "metadata": {},
     "output_type": "execute_result"
    }
   ],
   "source": [
    "data2.loc[10:30] # 라벨 기반"
   ]
  },
  {
   "cell_type": "code",
   "execution_count": null,
   "id": "8506a2c5-d181-4528-8cf1-cf3b63c4cfaa",
   "metadata": {},
   "outputs": [],
   "source": []
  }
 ],
 "metadata": {
  "kernelspec": {
   "display_name": "Python [conda env:base] *",
   "language": "python",
   "name": "conda-base-py"
  },
  "language_info": {
   "codemirror_mode": {
    "name": "ipython",
    "version": 3
   },
   "file_extension": ".py",
   "mimetype": "text/x-python",
   "name": "python",
   "nbconvert_exporter": "python",
   "pygments_lexer": "ipython3",
   "version": "3.12.3"
  }
 },
 "nbformat": 4,
 "nbformat_minor": 5
}
